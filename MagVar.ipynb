{
 "cells": [
  {
   "attachments": {},
   "cell_type": "markdown",
   "metadata": {},
   "source": [
    "# CALCUL DES ORIENTATIONS MAGNETIQUES\n",
    "\n",
    "\n",
    "La formule de calcul d'orientation magnétique entre deux points de coordonnées en fonction de la déclinaison magnétique peut être exprimée de la manière suivante :\n",
    "\n",
    "Tout d'abord, calculez la différence entre la longitude du point de destination et celle du point de départ en utilisant la formule :\n",
    "Δlong = longitude_destination - longitude_départ\n",
    "\n",
    "Ensuite, calculez la déclinaison magnétique pour la position de départ en utilisant une carte ou un modèle de déclinaison magnétique.\n",
    "\n",
    "Ajoutez ou soustrayez la déclinaison magnétique à la différence de longitude, selon que la déclinaison est à l'est ou à l'ouest de la direction du nord géographique, pour obtenir l'angle d'orientation magnétique :\n",
    "\n",
    "Angle d'orientation magnétique = Δlong ± déclinaison magnétique\n",
    "\n",
    "Si l'angle est supérieur à 360 degrés, soustrayez 360 degrés pour obtenir l'angle final.\n",
    "Il est important de noter que cette formule donne l'orientation magnétique, qui est différente de l'orientation géographique ou vraie. Pour obtenir l'orientation géographique, vous devez également tenir compte de la variation de l'inclinaison magnétique, qui varie en fonction de la latitude et de la longitude."
   ]
  },
  {
   "cell_type": "code",
   "execution_count": 1,
   "metadata": {},
   "outputs": [],
   "source": [
    "import math\n",
    "\n",
    "# Coordonnées des points de départ et de destination\n",
    "lat1 = input('latitude du 1er point : ')\n",
    "lon1 = input('Longitude du 1er point : ')\n",
    "lat2 = input('latitude du 2eme point : ')\n",
    "lon2 = input('longitude du 2eme point : ' )\n",
    "\n",
    "# Différence de longitude\n",
    "dLon = math.radians(lon2 - lon1)\n",
    "\n",
    "# Calcul de la déclinaison magnétique pour la position de départ\n",
    "d_dep = input('valeur de la déclinaison magnétique au point de départ : ')\n",
    "# À titre d'exemple, on peut utiliser une valeur de déclinaison de -2 degrés pour Paris, France en 2023\n",
    "declination = math.radians(d_dep)\n",
    "\n",
    "# Calcul de l'angle d'orientation magnétique\n",
    "y = math.sin(dLon) * math.cos(math.radians(lat2))\n",
    "x = math.cos(math.radians(lat1)) * math.sin(math.radians(lat2)) - math.sin(math.radians(lat1)) * math.cos(math.radians(lat2)) * math.cos(dLon)\n",
    "bearing = math.degrees(math.atan2(y, x)) + math.degrees(declination)\n",
    "\n",
    "# Si l'angle est supérieur à 360 degrés, soustrayez 360 degrés pour obtenir l'angle final\n",
    "if bearing > 360:\n",
    "    bearing -= 360\n",
    "\n",
    "print(\"L'angle d'orientation magnétique est : \", round(bearing, 2), \"degrés.\")"
   ]
  }
 ],
 "metadata": {
  "kernelspec": {
   "display_name": "env39",
   "language": "python",
   "name": "python3"
  },
  "language_info": {
   "codemirror_mode": {
    "name": "ipython",
    "version": 3
   },
   "file_extension": ".py",
   "mimetype": "text/x-python",
   "name": "python",
   "nbconvert_exporter": "python",
   "pygments_lexer": "ipython3",
   "version": "3.9.16"
  },
  "orig_nbformat": 4
 },
 "nbformat": 4,
 "nbformat_minor": 2
}
